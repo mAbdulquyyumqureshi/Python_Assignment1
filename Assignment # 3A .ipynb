{
 "cells": [
  {
   "cell_type": "code",
   "execution_count": 14,
   "metadata": {},
   "outputs": [
    {
     "name": "stdout",
     "output_type": "stream",
     "text": [
      "Enter First Number: 10\n",
      "Enter Second Number: 19\n",
      "Enter which operation would you like to perform?\n",
      "Enter any of these char for specific operation +,-,*,/,**: *\n",
      "10 * 19 : 190\n"
     ]
    }
   ],
   "source": [
    "num1 = int(input(\"Enter First Number: \"))\n",
    "num2 = int(input(\"Enter Second Number: \"))\n",
    "\n",
    "print(\"Enter which operation would you like to perform?\")\n",
    "ch = input(\"Enter any of these char for specific operation +,-,*,/,**: \")\n",
    "if ch == '+':\n",
    "    result = num1 + num2\n",
    "elif ch == '-':\n",
    "    result = num1 - num2\n",
    "elif ch == '*':\n",
    "    result = num1 * num2\n",
    "elif ch == '/':\n",
    "    result = num1 / num2\n",
    "elif ch == '**':\n",
    "    result = num1 ** num2\n",
    "else:\n",
    "    print(\"Input character is not recognized!\")\n",
    "print(num1, ch , num2, \":\", result)"
   ]
  },
  {
   "cell_type": "code",
   "execution_count": 15,
   "metadata": {},
   "outputs": [
    {
     "name": "stdout",
     "output_type": "stream",
     "text": [
      "100 is a numeric value in list\n",
      "25 is a numeric value in list\n",
      "10.5 is a numeric value in list\n"
     ]
    }
   ],
   "source": [
    "a=['Abdul Quyyum','Qureshi',100,25,10.5,'a','b']\n",
    "for i in a:\n",
    "    if type(i) == int:\n",
    "        print(i,\"is a numeric value in list\")\n",
    "    elif type(i) == float:\n",
    "        print(i,\"is a numeric value in list\")"
   ]
  },
  {
   "cell_type": "code",
   "execution_count": 16,
   "metadata": {},
   "outputs": [
    {
     "name": "stdout",
     "output_type": "stream",
     "text": [
      "{'a': 10, 'b': 20}\n",
      "{'a': 100, 'b': 20, 'c': 30, 'd': 45}\n"
     ]
    }
   ],
   "source": [
    "d = {'a': 10, 'b': 20}\n",
    "print(d)\n",
    "d['a'] = 100\n",
    "d['c'] = 30  \n",
    "d['d'] = 45\n",
    "print(d)"
   ]
  },
  {
   "cell_type": "code",
   "execution_count": 17,
   "metadata": {},
   "outputs": [
    {
     "name": "stdout",
     "output_type": "stream",
     "text": [
      "2930\n"
     ]
    }
   ],
   "source": [
    "my_dict = {'data1':1000,'data2':-540,'data3':2470}\n",
    "print(sum(my_dict.values()))"
   ]
  },
  {
   "cell_type": "code",
   "execution_count": 18,
   "metadata": {},
   "outputs": [
    {
     "name": "stdout",
     "output_type": "stream",
     "text": [
      "[3, 60, 15, 36, 12]\n"
     ]
    }
   ],
   "source": [
    "lst = [ 3, 60, 9, 12, 3, 36, 15, 60, 15, 36, 12, 12]\n",
    "dupItems = []\n",
    "uniqItems = {}\n",
    "for x in lst:\n",
    "   if x not in uniqItems:\n",
    "      uniqItems[x] = 1\n",
    "   else:\n",
    "      if uniqItems[x] == 1:\n",
    "         dupItems.append(x)\n",
    "      uniqItems[x] += 1\n",
    "print(dupItems)\n",
    "            "
   ]
  },
  {
   "cell_type": "code",
   "execution_count": 19,
   "metadata": {},
   "outputs": [
    {
     "name": "stdout",
     "output_type": "stream",
     "text": [
      "{'z': 10, 'a': 50, 'b': 84, 'c': 120, 'd': 40, 'e': 19}\n",
      "True\n"
     ]
    }
   ],
   "source": [
    "x = {'z': 10, 'a': 50, 'b': 84, 'c': 120, 'd': 40, 'e': 19}\n",
    " \n",
    "print(x)\n",
    " \n",
    "if 'z' in x.keys():\n",
    "    print(\"True\")\n",
    "else:\n",
    "    print(\"False\")"
   ]
  },
  {
   "cell_type": "code",
   "execution_count": null,
   "metadata": {},
   "outputs": [],
   "source": []
  }
 ],
 "metadata": {
  "kernelspec": {
   "display_name": "Python 3",
   "language": "python",
   "name": "python3"
  },
  "language_info": {
   "codemirror_mode": {
    "name": "ipython",
    "version": 3
   },
   "file_extension": ".py",
   "mimetype": "text/x-python",
   "name": "python",
   "nbconvert_exporter": "python",
   "pygments_lexer": "ipython3",
   "version": "3.7.4"
  }
 },
 "nbformat": 4,
 "nbformat_minor": 2
}
