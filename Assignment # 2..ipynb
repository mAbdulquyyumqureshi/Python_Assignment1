{
 "cells": [
  {
   "cell_type": "code",
   "execution_count": 4,
   "metadata": {},
   "outputs": [
    {
     "name": "stdout",
     "output_type": "stream",
     "text": [
      "Enter marks of the English: 88\n",
      "Enter marks of the Islamiat: 89\n",
      "Enter marks of the Urdu: 87\n",
      "Enter marks of the Pyhsics: 86\n",
      "Enter marks of the Chemistry: 85\n",
      "0.87\n",
      "87.0\n",
      "Grade A+\n"
     ]
    }
   ],
   "source": [
    "Eng=int(input(\"Enter marks of the English: \"))\n",
    "Isl=int(input(\"Enter marks of the Islamiat: \"))\n",
    "Urd=int(input(\"Enter marks of the Urdu: \"))\n",
    "Phy=int(input(\"Enter marks of the Pyhsics: \"))\n",
    "Chem=int(input(\"Enter marks of the Chemistry: \"))\n",
    "avg=(Eng+Isl+Urd+Phy+Chem)/500\n",
    "print (avg)\n",
    "per=avg*100\n",
    "print (per)\n",
    "if (per>=80):\n",
    "    print(\"Grade A+\")\n",
    "elif (per>=70):\n",
    "    print(\"Grade A\")\n",
    "elif (per>=60):\n",
    "    print(\"B\")\n",
    "elif (per>=50):\n",
    "    print(\"Grade C\")\n",
    "elif (per>=40):\n",
    "    print(\"Grade D\")\n",
    "else:\n",
    "    print(\"Grade F\")\n",
    "    "
   ]
  },
  {
   "cell_type": "code",
   "execution_count": 5,
   "metadata": {},
   "outputs": [
    {
     "name": "stdout",
     "output_type": "stream",
     "text": [
      "Enter a number: 8\n",
      "This is an Even number: \n"
     ]
    }
   ],
   "source": [
    "a=int(input(\"Enter a number: \"))\n",
    "mod=a%2\n",
    "if mod > 0:\n",
    "    print(\"This is an odd number: \")\n",
    "else:\n",
    "    print(\"This is an Even number: \")"
   ]
  },
  {
   "cell_type": "code",
   "execution_count": 9,
   "metadata": {},
   "outputs": [
    {
     "name": "stdout",
     "output_type": "stream",
     "text": [
      "8\n"
     ]
    }
   ],
   "source": [
    "list= [2,4,6,8,5,9,0,5]\n",
    "print (len(list))"
   ]
  },
  {
   "cell_type": "code",
   "execution_count": 10,
   "metadata": {},
   "outputs": [
    {
     "name": "stdout",
     "output_type": "stream",
     "text": [
      "98\n"
     ]
    }
   ],
   "source": [
    "list= [89,98,90,56,78,12,80]\n",
    "print (max(list)) "
   ]
  },
  {
   "cell_type": "code",
   "execution_count": 11,
   "metadata": {},
   "outputs": [
    {
     "name": "stdout",
     "output_type": "stream",
     "text": [
      "1\n",
      "1\n",
      "2\n",
      "3\n"
     ]
    }
   ],
   "source": [
    "a=[1,1,2,3,5,8,13,21,34,55,89]\n",
    "for i in a:\n",
    "    if i<5:\n",
    "        print(i)"
   ]
  },
  {
   "cell_type": "code",
   "execution_count": 33,
   "metadata": {},
   "outputs": [
    {
     "name": "stdout",
     "output_type": "stream",
     "text": [
      "How many numbers: 5\n",
      "Enter number 6\n",
      "Enter number 5\n",
      "Enter number 8\n",
      "Enter number 9\n",
      "Enter number 10\n",
      "Sum of elements in given list is : 38\n"
     ]
    }
   ],
   "source": [
    "lst = []\n",
    "num = int(input('How many numbers: '))\n",
    "for n in range(num):\n",
    "    numbers = int(input('Enter number '))\n",
    "    lst.append(numbers)\n",
    "print(\"Sum of elements in given list is :\", sum(lst))"
   ]
  },
  {
   "cell_type": "code",
   "execution_count": null,
   "metadata": {},
   "outputs": [],
   "source": []
  }
 ],
 "metadata": {
  "kernelspec": {
   "display_name": "Python 3",
   "language": "python",
   "name": "python3"
  },
  "language_info": {
   "codemirror_mode": {
    "name": "ipython",
    "version": 3
   },
   "file_extension": ".py",
   "mimetype": "text/x-python",
   "name": "python",
   "nbconvert_exporter": "python",
   "pygments_lexer": "ipython3",
   "version": "3.7.4"
  }
 },
 "nbformat": 4,
 "nbformat_minor": 2
}
