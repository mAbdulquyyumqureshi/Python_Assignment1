{
 "cells": [
  {
   "cell_type": "code",
   "execution_count": 6,
   "metadata": {},
   "outputs": [
    {
     "name": "stdout",
     "output_type": "stream",
     "text": [
      "object-oriented programming (OOP) is a programming language model in which programs are organized around data,\n",
      "or objects, rather than functions and logic. An object can be defined as a data field that has unique attributand \n",
      "behavior. Examples of an object can range from physical entities, such as a human being that is described by\n",
      "properties like name and address, down to small computer programs, such as widgets. This opposes the historical\n",
      "approach to programming where emphasis was placed on how the logic was written rather than how to define the data\n",
      "within the logic.\n"
     ]
    }
   ],
   "source": [
    "print('''object-oriented programming (OOP) is a programming language model in which programs are organized around data,\n",
    "or objects, rather than functions and logic. An object can be defined as a data field that has unique attributand \n",
    "behavior. Examples of an object can range from physical entities, such as a human being that is described by\n",
    "properties like name and address, down to small computer programs, such as widgets. This opposes the historical\n",
    "approach to programming where emphasis was placed on how the logic was written rather than how to define the data\n",
    "within the logic.''')"
   ]
  },
  {
   "cell_type": "code",
   "execution_count": 7,
   "metadata": {},
   "outputs": [
    {
     "name": "stdout",
     "output_type": "stream",
     "text": [
      "The benefits of oop are \n",
      "1. Re-usability\n",
      "2. Data Redundancy\n",
      "3. code Maintenance\n",
      "4. security\n",
      "5. Design Benefits\n",
      "6. Better Productivity\n",
      "7. Easy Trouble-shooting\n",
      "8. Polymorphism Flexibility\n",
      "9. Problem Solving \n"
     ]
    }
   ],
   "source": [
    "print('''The benefits of oop are \n",
    "1. Re-usability\n",
    "2. Data Redundancy\n",
    "3. code Maintenance\n",
    "4. security\n",
    "5. Design Benefits\n",
    "6. Better Productivity\n",
    "7. Easy Trouble-shooting\n",
    "8. Polymorphism Flexibility\n",
    "9. Problem Solving ''')\n"
   ]
  },
  {
   "cell_type": "code",
   "execution_count": 9,
   "metadata": {},
   "outputs": [
    {
     "name": "stdout",
     "output_type": "stream",
     "text": [
      "Function: A function is a piece of code that is called by name. It can be passed data to operate on \n",
      "(i.e. the parameters) and can optionally return data (the return value). All data that is passed to \n",
      "a function is explicitly passed.\n",
      "\n",
      "Method: A method is a piece of code that is called by a name that is associated with an object. \n",
      "In most respects it is identical to a function except for two key differences:\n",
      "    A method is implicitly passed the object on which it was called.\n",
      "    A method is able to operate on data that is contained within the class (remembering that an object\n",
      "    is an instance of a class - the class is the definition, the object is an instance of that data) \n"
     ]
    }
   ],
   "source": [
    "print('''Function: A function is a piece of code that is called by name. It can be passed data to operate on \n",
    "(i.e. the parameters) and can optionally return data (the return value). All data that is passed to \n",
    "a function is explicitly passed.\n",
    "\n",
    "Method: A method is a piece of code that is called by a name that is associated with an object. \n",
    "In most respects it is identical to a function except for two key differences:\n",
    "    A method is implicitly passed the object on which it was called.\n",
    "    A method is able to operate on data that is contained within the class (remembering that an object\n",
    "    is an instance of a class - the class is the definition, the object is an instance of that data) ''')"
   ]
  },
  {
   "cell_type": "code",
   "execution_count": 13,
   "metadata": {},
   "outputs": [
    {
     "name": "stdout",
     "output_type": "stream",
     "text": [
      " Class: A Class is a description of a group of objects with common properties (attributes),\n",
      "behavior (operations), relationships, and semantics.A class is an abstraction. An object is an instance \n",
      "of a class.\n",
      "Example of a Class\n",
      "    Class: Course\n",
      "    Properties: Name, Location, Days Offered, Credit Hours, Professor.\n",
      " \n",
      "Object: An Object represents an entity either physical (box), conceptual (chemical process), or software (list).\n",
      "An Object is a concept, an abstraction, a thing with sharp boundaries and meaning for an application. It has\n",
      "    Identity - a name\n",
      "    State - determined by the values of its attributes\n",
      "    Behavior - determined by how the object acts or reacts to requests (messages) from other objects \n",
      "An Object is represented as a rectangle with a underlined name in UML. \n",
      "\n",
      "Attribute: An Attribute is a named property of a class. It has a type. \n",
      "It describes the range of values that that property may hold.\n",
      "\n",
      "Behaviour: A class's behavior determines how an instance of that class operates; for example,\n",
      "how it will \"react\" if asked to do something by another class or object or if its internal state\n",
      "changes. Behavior is the only way objects can do anything to themselves or have anything done to them.\n"
     ]
    }
   ],
   "source": [
    "print(''' Class: A Class is a description of a group of objects with common properties (attributes),\n",
    "behavior (operations), relationships, and semantics. A class is an abstraction. An object is an instance \n",
    "of a class.\n",
    "Example of a Class\n",
    "    Class: Course\n",
    "    Properties: Name, Location, Days Offered, Credit Hours, Professor.\n",
    " \n",
    "Object: An Object represents an entity either physical (box), conceptual (chemical process), or software (list).\n",
    "An Object is a concept, an abstraction, a thing with sharp boundaries and meaning for an application. It has\n",
    "    Identity - a name\n",
    "    State - determined by the values of its attributes\n",
    "    Behavior - determined by how the object acts or reacts to requests (messages) from other objects \n",
    "An Object is represented as a rectangle with a underlined name in UML. \n",
    "\n",
    "Attribute: An Attribute is a named property of a class. It has a type. \n",
    "It describes the range of values that that property may hold.\n",
    "\n",
    "Behaviour: A class's behavior determines how an instance of that class operates; for example,\n",
    "how it will \"react\" if asked to do something by another class or object or if its internal state\n",
    "changes. Behavior is the only way objects can do anything to themselves or have anything done to them.''')\n",
    "    "
   ]
  },
  {
   "cell_type": "code",
   "execution_count": 16,
   "metadata": {},
   "outputs": [
    {
     "name": "stdout",
     "output_type": "stream",
     "text": [
      "this car name is :  Corolla\n",
      "Suzuki\n",
      "cda-132\n"
     ]
    }
   ],
   "source": [
    "class Car:\n",
    "    def __init__(self,model,color,name,company,number):\n",
    "        self.model=model\n",
    "        self.color=color\n",
    "        self.name=name\n",
    "        self.company=company\n",
    "        self.number=number\n",
    "        \n",
    "    def print_name(self):\n",
    "        print(\"this car name is : \",self.name)\n",
    "            \n",
    "    def print_UPdatecompany(self):\n",
    "        self.company=\"Suzuki\"\n",
    "        print(self.company)\n",
    "            \n",
    "    def print_number(self):\n",
    "        print(self.number)\n",
    "            \n",
    "car1=Car('2019','Black','Corolla','Toyota','Abx-2132')\n",
    "car2=Car('2018','white','VIGO','Toyota','Xayz-212')\n",
    "car3=Car('2017','Red','land Cruiser','Toyota','cda-132')\n",
    "\n",
    "car1.print_name()\n",
    "car2.print_UPdatecompany()\n",
    "car3.print_number()"
   ]
  },
  {
   "cell_type": "code",
   "execution_count": null,
   "metadata": {},
   "outputs": [],
   "source": []
  }
 ],
 "metadata": {
  "kernelspec": {
   "display_name": "Python 3",
   "language": "python",
   "name": "python3"
  },
  "language_info": {
   "codemirror_mode": {
    "name": "ipython",
    "version": 3
   },
   "file_extension": ".py",
   "mimetype": "text/x-python",
   "name": "python",
   "nbconvert_exporter": "python",
   "pygments_lexer": "ipython3",
   "version": "3.7.4"
  }
 },
 "nbformat": 4,
 "nbformat_minor": 2
}
