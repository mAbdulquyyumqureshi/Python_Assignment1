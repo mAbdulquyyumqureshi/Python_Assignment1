{
 "cells": [
  {
   "cell_type": "code",
   "execution_count": 4,
   "metadata": {},
   "outputs": [
    {
     "name": "stdout",
     "output_type": "stream",
     "text": [
      "Below mention existing dictionary\n",
      "-----------------------------------------\n",
      "\n",
      "first_name : Abdul Quyyum\n",
      "last_name : Qureshi\n",
      "age : 22\n",
      "city : karachi\n",
      "\n",
      "Add new key with value in dictionary\n",
      "-----------------------------------------\n",
      "\n",
      "first_name : Abdul Quyyum\n",
      "last_name : Qureshi\n",
      "age : 22\n",
      "city : karachi\n",
      "qualification : intermedaite\n",
      "\n",
      " Updating the value of qualification key in dictionary\n",
      "----------------------------------------------------\n",
      "\n",
      "Currently the value of qualification is intermedaite\n",
      "Here is the updated dictionary with updated values of Qualification.\n",
      "\n",
      "first_name : Abdul Quyyum\n",
      "last_name : Qureshi\n",
      "age : 22\n",
      "city : karachi\n",
      "qualification : Graduate\n",
      "\n",
      "deleted the key of qualification and below mention\n",
      "------------------------------------------------------\n",
      "\n",
      "first_name : Abdul Quyyum\n",
      "last_name : Qureshi\n",
      "age : 22\n",
      "city : karachi\n"
     ]
    }
   ],
   "source": [
    "persons ={\n",
    "    \n",
    "    \"first_name\":\"Abdul Quyyum\",\n",
    "    \"last_name\":\"Qureshi\",\n",
    "    \"age\":\"22\",\n",
    "    \"city\":\"karachi\"\n",
    "}\n",
    "\n",
    "def print_dic_values_and_key(dicti_name):\n",
    "    for keys,values in dicti_name.items():\n",
    "        print(keys + \" : \" +values)\n",
    "print(\"Below mention existing dictionary\\n-----------------------------------------\\n\")  \n",
    "print_dic_values_and_key(persons)  \n",
    "print(\"\\nAdd new key with value in dictionary\\n-----------------------------------------\\n\")\n",
    "persons.update({\"qualification\":\"intermedaite\"})\n",
    "print_dic_values_and_key(persons) \n",
    "print(\"\\n Updating the value of qualification key in dictionary\\n----------------------------------------------------\\n\")\n",
    "print(\"Currently the value of qualification is \"+  persons['qualification'])\n",
    "persons['qualification'] = \"Graduate\"\n",
    "print(\"Here is the updated dictionary with updated values of Qualification.\\n\")\n",
    "print_dic_values_and_key(persons) \n",
    "del persons['qualification']\n",
    "\n",
    "print(\"\\ndeleted the key of qualification and below mention\\n------------------------------------------------------\\n\")\n",
    "print_dic_values_and_key(persons)"
   ]
  },
  {
   "cell_type": "code",
   "execution_count": 5,
   "metadata": {},
   "outputs": [
    {
     "name": "stdout",
     "output_type": "stream",
     "text": [
      "\n",
      "Karachi is in Pakistan.\n",
      "It has a population of about 15,741,000.\n",
      "It is the Sixth largest city in the world by city population.\n",
      "\n",
      "Peshawar is in Pakistan.\n",
      "It has a population of about 2,133,000.\n",
      "Peshawar is one of the oldest cities in the world. Its history goes back in antiquity and its history is known from 539 BC.   \n",
      "\n",
      "Islamabad is in Pakistan.\n",
      "It has a population of about 1,095,064.\n",
      "It is the cleanest and greenest city of Pakistan\n"
     ]
    }
   ],
   "source": [
    "cities = {\n",
    "    'Karachi':  {\n",
    "        'country': 'Pakistan',\n",
    "        'population': '15,741,000',\n",
    "        'facts': 'It is the Sixth largest city in the world by city population.',\n",
    "    },\n",
    "    'Peshawar':{\n",
    "        'country': 'Pakistan',\n",
    "        'population': '2,133,000', \n",
    "        'facts': 'Peshawar is one of the oldest cities in the world. Its history goes back in antiquity and its history is known from 539 BC.   ',\n",
    "    },\n",
    "    'Islamabad': {\n",
    "        'country': 'Pakistan',\n",
    "        'population': '1,095,064',\n",
    "        'facts': 'It is the cleanest and greenest city of Pakistan',\n",
    "      }\n",
    "    }\n",
    "for city, city_info in cities.items():\n",
    "    country = city_info['country']\n",
    "    population = city_info['population']\n",
    "    facts = city_info['facts']\n",
    "    \n",
    "    print(\"\\n\" + city.title() + \" is in \" + country + \".\")\n",
    "    print(\"It has a population of about \" + str(population) + \".\")\n",
    "    print( facts)"
   ]
  },
  {
   "cell_type": "code",
   "execution_count": 10,
   "metadata": {},
   "outputs": [
    {
     "name": "stdout",
     "output_type": "stream",
     "text": [
      "How old are you?\n",
      "Enter 'quit' when you are finished. 2\n",
      "  You get in free!\n",
      "How old are you?\n",
      "Enter 'quit' when you are finished. 10\n",
      "  Your ticket is $10.\n",
      "How old are you?\n",
      "Enter 'quit' when you are finished. 13\n",
      "  Your ticket is $15.\n",
      "How old are you?\n",
      "Enter 'quit' when you are finished. quit\n"
     ]
    }
   ],
   "source": [
    "prompt = \"How old are you?\"\n",
    "prompt += \"\\nEnter 'quit' when you are finished. \"\n",
    "\n",
    "while True:\n",
    "    age = input(prompt)\n",
    "    if age == 'quit':\n",
    "        break\n",
    "    age = int(age)\n",
    "\n",
    "    if age < 3:\n",
    "        print(\"  You get in free!\")\n",
    "    elif age < 13:\n",
    "        print(\"  Your ticket is $10.\")\n",
    "    else:\n",
    "        print(\"  Your ticket is $15.\")\n"
   ]
  },
  {
   "cell_type": "code",
   "execution_count": 11,
   "metadata": {},
   "outputs": [
    {
     "name": "stdout",
     "output_type": "stream",
     "text": [
      "The Art of Drowning is one of my favorite books.\n"
     ]
    }
   ],
   "source": [
    "def favorite_book (title): \n",
    "    print (title + \" is one of my favorite books.\" ) \n",
    "favorite_book( 'The Art of Drowning' )"
   ]
  },
  {
   "cell_type": "code",
   "execution_count": 12,
   "metadata": {},
   "outputs": [
    {
     "name": "stdout",
     "output_type": "stream",
     "text": [
      "Guess the number between 1 to 30 : 1\n",
      "Your guess is too low\n",
      "Guess the number between 1 to 30 : 10\n",
      "Your guess is too low\n",
      "Guess the number between 1 to 30 : 30\n",
      "Your guess is too high\n",
      "You Loose\n",
      "Correct Number is  12\n"
     ]
    }
   ],
   "source": [
    "import random\n",
    "\n",
    "random_number = random.randrange(1,30)\n",
    "\n",
    "flag = False\n",
    "\n",
    "for i in range(1,4):\n",
    "    guess = int(input(\"Guess the number between 1 to 30 : \"))\n",
    "    if guess == random_number:\n",
    "        flag = True \n",
    "        break\n",
    "    elif guess < random_number:\n",
    "        print(\"Your guess is too low\")\n",
    "    else:\n",
    "        print(\"Your guess is too high\")\n",
    "        \n",
    "if flag:\n",
    "    print(\"Congratulation you Win!!\")\n",
    "else:\n",
    "    print(\"You Loose\")\n",
    "    print(\"Correct Number is \", random_number)"
   ]
  },
  {
   "cell_type": "code",
   "execution_count": null,
   "metadata": {},
   "outputs": [],
   "source": []
  }
 ],
 "metadata": {
  "kernelspec": {
   "display_name": "Python 3",
   "language": "python",
   "name": "python3"
  },
  "language_info": {
   "codemirror_mode": {
    "name": "ipython",
    "version": 3
   },
   "file_extension": ".py",
   "mimetype": "text/x-python",
   "name": "python",
   "nbconvert_exporter": "python",
   "pygments_lexer": "ipython3",
   "version": "3.7.4"
  }
 },
 "nbformat": 4,
 "nbformat_minor": 2
}
